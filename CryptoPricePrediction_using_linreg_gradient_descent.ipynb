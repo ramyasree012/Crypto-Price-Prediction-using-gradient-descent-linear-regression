{
  "nbformat": 4,
  "nbformat_minor": 0,
  "metadata": {
    "colab": {
      "name": "CryptoPricePrediction_using_linreg_gradient-descent.ipynb",
      "provenance": [],
      "collapsed_sections": [],
      "authorship_tag": "ABX9TyOjHAUEf2+tfZrW3ISiVmqp",
      "include_colab_link": true
    },
    "kernelspec": {
      "name": "python3",
      "display_name": "Python 3"
    },
    "language_info": {
      "name": "python"
    }
  },
  "cells": [
    {
      "cell_type": "markdown",
      "metadata": {
        "id": "view-in-github",
        "colab_type": "text"
      },
      "source": [
        "<a href=\"https://colab.research.google.com/github/ramyasree012/Crypto-Price-Prediction-using-gradient-descent-linear-regression/blob/main/CryptoPricePrediction_using_linreg_gradient_descent.ipynb\" target=\"_parent\"><img src=\"https://colab.research.google.com/assets/colab-badge.svg\" alt=\"Open In Colab\"/></a>"
      ]
    },
    {
      "cell_type": "code",
      "metadata": {
        "id": "aUGkCbtnreR6"
      },
      "source": [
        "import io\n",
        "import numpy as np\n",
        "import pandas as pd\n",
        "import matplotlib.pyplot as plt"
      ],
      "execution_count": null,
      "outputs": []
    },
    {
      "cell_type": "code",
      "metadata": {
        "colab": {
          "resources": {
            "http://localhost:8080/nbextensions/google.colab/files.js": {
              "data": "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",
              "ok": true,
              "headers": [
                [
                  "content-type",
                  "application/javascript"
                ]
              ],
              "status": 200,
              "status_text": ""
            }
          },
          "base_uri": "https://localhost:8080/",
          "height": 72
        },
        "id": "5euO_mTNrvm2",
        "outputId": "b358735e-83d7-4880-87bf-a16f84619366"
      },
      "source": [
        "from google.colab import files\n",
        "uploaded = files.upload()"
      ],
      "execution_count": null,
      "outputs": [
        {
          "output_type": "display_data",
          "data": {
            "text/html": [
              "\n",
              "     <input type=\"file\" id=\"files-9606360d-50b5-4dbe-b81e-c2791a8d336e\" name=\"files[]\" multiple disabled\n",
              "        style=\"border:none\" />\n",
              "     <output id=\"result-9606360d-50b5-4dbe-b81e-c2791a8d336e\">\n",
              "      Upload widget is only available when the cell has been executed in the\n",
              "      current browser session. Please rerun this cell to enable.\n",
              "      </output>\n",
              "      <script src=\"/nbextensions/google.colab/files.js\"></script> "
            ],
            "text/plain": [
              "<IPython.core.display.HTML object>"
            ]
          },
          "metadata": {}
        },
        {
          "output_type": "stream",
          "name": "stdout",
          "text": [
            "Saving ETH.csv to ETH (1).csv\n"
          ]
        }
      ]
    },
    {
      "cell_type": "code",
      "metadata": {
        "colab": {
          "base_uri": "https://localhost:8080/",
          "height": 419
        },
        "id": "cwudL6_drzRb",
        "outputId": "1d94f465-d672-4a54-e6b4-a92422a1cdd3"
      },
      "source": [
        "df = pd.read_csv(io.BytesIO(uploaded['ETH.csv']))\n",
        "df"
      ],
      "execution_count": null,
      "outputs": [
        {
          "output_type": "execute_result",
          "data": {
            "text/html": [
              "<div>\n",
              "<style scoped>\n",
              "    .dataframe tbody tr th:only-of-type {\n",
              "        vertical-align: middle;\n",
              "    }\n",
              "\n",
              "    .dataframe tbody tr th {\n",
              "        vertical-align: top;\n",
              "    }\n",
              "\n",
              "    .dataframe thead th {\n",
              "        text-align: right;\n",
              "    }\n",
              "</style>\n",
              "<table border=\"1\" class=\"dataframe\">\n",
              "  <thead>\n",
              "    <tr style=\"text-align: right;\">\n",
              "      <th></th>\n",
              "      <th>Unix Timestamp</th>\n",
              "      <th>Date</th>\n",
              "      <th>Symbol</th>\n",
              "      <th>Open</th>\n",
              "      <th>High</th>\n",
              "      <th>Low</th>\n",
              "      <th>Close</th>\n",
              "      <th>Volume</th>\n",
              "    </tr>\n",
              "  </thead>\n",
              "  <tbody>\n",
              "    <tr>\n",
              "      <th>0</th>\n",
              "      <td>1586995200000</td>\n",
              "      <td>2020-04-16 00:00:00</td>\n",
              "      <td>ETHUSD</td>\n",
              "      <td>152.94</td>\n",
              "      <td>152.94</td>\n",
              "      <td>150.39</td>\n",
              "      <td>150.39</td>\n",
              "      <td>650.188125</td>\n",
              "    </tr>\n",
              "    <tr>\n",
              "      <th>1</th>\n",
              "      <td>1586991600000</td>\n",
              "      <td>2020-04-15 23:00:00</td>\n",
              "      <td>ETHUSD</td>\n",
              "      <td>155.81</td>\n",
              "      <td>155.81</td>\n",
              "      <td>151.39</td>\n",
              "      <td>152.94</td>\n",
              "      <td>4277.567299</td>\n",
              "    </tr>\n",
              "    <tr>\n",
              "      <th>2</th>\n",
              "      <td>1586988000000</td>\n",
              "      <td>2020-04-15 22:00:00</td>\n",
              "      <td>ETHUSD</td>\n",
              "      <td>157.18</td>\n",
              "      <td>157.30</td>\n",
              "      <td>155.32</td>\n",
              "      <td>155.81</td>\n",
              "      <td>106.337279</td>\n",
              "    </tr>\n",
              "    <tr>\n",
              "      <th>3</th>\n",
              "      <td>1586984400000</td>\n",
              "      <td>2020-04-15 21:00:00</td>\n",
              "      <td>ETHUSD</td>\n",
              "      <td>158.04</td>\n",
              "      <td>158.31</td>\n",
              "      <td>157.16</td>\n",
              "      <td>157.18</td>\n",
              "      <td>55.244131</td>\n",
              "    </tr>\n",
              "    <tr>\n",
              "      <th>4</th>\n",
              "      <td>1586980800000</td>\n",
              "      <td>2020-04-15 20:00:00</td>\n",
              "      <td>ETHUSD</td>\n",
              "      <td>157.10</td>\n",
              "      <td>158.10</td>\n",
              "      <td>156.87</td>\n",
              "      <td>158.04</td>\n",
              "      <td>144.262622</td>\n",
              "    </tr>\n",
              "    <tr>\n",
              "      <th>...</th>\n",
              "      <td>...</td>\n",
              "      <td>...</td>\n",
              "      <td>...</td>\n",
              "      <td>...</td>\n",
              "      <td>...</td>\n",
              "      <td>...</td>\n",
              "      <td>...</td>\n",
              "      <td>...</td>\n",
              "    </tr>\n",
              "    <tr>\n",
              "      <th>34492</th>\n",
              "      <td>1462813200</td>\n",
              "      <td>2016-05-09 17:00:00</td>\n",
              "      <td>ETHUSD</td>\n",
              "      <td>9.83</td>\n",
              "      <td>9.83</td>\n",
              "      <td>9.48</td>\n",
              "      <td>9.49</td>\n",
              "      <td>329.553213</td>\n",
              "    </tr>\n",
              "    <tr>\n",
              "      <th>34493</th>\n",
              "      <td>1462809600</td>\n",
              "      <td>2016-05-09 16:00:00</td>\n",
              "      <td>ETHUSD</td>\n",
              "      <td>9.99</td>\n",
              "      <td>9.99</td>\n",
              "      <td>9.79</td>\n",
              "      <td>9.83</td>\n",
              "      <td>62.379450</td>\n",
              "    </tr>\n",
              "    <tr>\n",
              "      <th>34494</th>\n",
              "      <td>1462806000</td>\n",
              "      <td>2016-05-09 15:00:00</td>\n",
              "      <td>ETHUSD</td>\n",
              "      <td>10.00</td>\n",
              "      <td>10.00</td>\n",
              "      <td>9.99</td>\n",
              "      <td>9.99</td>\n",
              "      <td>10.973567</td>\n",
              "    </tr>\n",
              "    <tr>\n",
              "      <th>34495</th>\n",
              "      <td>1462802400</td>\n",
              "      <td>2016-05-09 14:00:00</td>\n",
              "      <td>ETHUSD</td>\n",
              "      <td>9.55</td>\n",
              "      <td>10.00</td>\n",
              "      <td>9.55</td>\n",
              "      <td>10.00</td>\n",
              "      <td>235.774075</td>\n",
              "    </tr>\n",
              "    <tr>\n",
              "      <th>34496</th>\n",
              "      <td>1462798800</td>\n",
              "      <td>2016-05-09 13:00:00</td>\n",
              "      <td>ETHUSD</td>\n",
              "      <td>0.00</td>\n",
              "      <td>12.00</td>\n",
              "      <td>0.00</td>\n",
              "      <td>9.55</td>\n",
              "      <td>432.562115</td>\n",
              "    </tr>\n",
              "  </tbody>\n",
              "</table>\n",
              "<p>34497 rows × 8 columns</p>\n",
              "</div>"
            ],
            "text/plain": [
              "       Unix Timestamp                 Date  Symbol  ...     Low   Close       Volume\n",
              "0       1586995200000  2020-04-16 00:00:00  ETHUSD  ...  150.39  150.39   650.188125\n",
              "1       1586991600000  2020-04-15 23:00:00  ETHUSD  ...  151.39  152.94  4277.567299\n",
              "2       1586988000000  2020-04-15 22:00:00  ETHUSD  ...  155.32  155.81   106.337279\n",
              "3       1586984400000  2020-04-15 21:00:00  ETHUSD  ...  157.16  157.18    55.244131\n",
              "4       1586980800000  2020-04-15 20:00:00  ETHUSD  ...  156.87  158.04   144.262622\n",
              "...               ...                  ...     ...  ...     ...     ...          ...\n",
              "34492      1462813200  2016-05-09 17:00:00  ETHUSD  ...    9.48    9.49   329.553213\n",
              "34493      1462809600  2016-05-09 16:00:00  ETHUSD  ...    9.79    9.83    62.379450\n",
              "34494      1462806000  2016-05-09 15:00:00  ETHUSD  ...    9.99    9.99    10.973567\n",
              "34495      1462802400  2016-05-09 14:00:00  ETHUSD  ...    9.55   10.00   235.774075\n",
              "34496      1462798800  2016-05-09 13:00:00  ETHUSD  ...    0.00    9.55   432.562115\n",
              "\n",
              "[34497 rows x 8 columns]"
            ]
          },
          "metadata": {},
          "execution_count": 25
        }
      ]
    },
    {
      "cell_type": "code",
      "metadata": {
        "colab": {
          "base_uri": "https://localhost:8080/",
          "height": 359
        },
        "id": "zAXojTUFr2Uc",
        "outputId": "24821222-d0ef-4c89-9ac2-d62b939ac61b"
      },
      "source": [
        "predict_for_days = 10\n",
        "df['Predicted Value'] = df[['Close']].shift(-predict_for_days) #new column named 'Predicted Value' is created\n",
        "df.head(10)"
      ],
      "execution_count": null,
      "outputs": [
        {
          "output_type": "execute_result",
          "data": {
            "text/html": [
              "<div>\n",
              "<style scoped>\n",
              "    .dataframe tbody tr th:only-of-type {\n",
              "        vertical-align: middle;\n",
              "    }\n",
              "\n",
              "    .dataframe tbody tr th {\n",
              "        vertical-align: top;\n",
              "    }\n",
              "\n",
              "    .dataframe thead th {\n",
              "        text-align: right;\n",
              "    }\n",
              "</style>\n",
              "<table border=\"1\" class=\"dataframe\">\n",
              "  <thead>\n",
              "    <tr style=\"text-align: right;\">\n",
              "      <th></th>\n",
              "      <th>Unix Timestamp</th>\n",
              "      <th>Date</th>\n",
              "      <th>Symbol</th>\n",
              "      <th>Open</th>\n",
              "      <th>High</th>\n",
              "      <th>Low</th>\n",
              "      <th>Close</th>\n",
              "      <th>Volume</th>\n",
              "      <th>Predicted Value</th>\n",
              "    </tr>\n",
              "  </thead>\n",
              "  <tbody>\n",
              "    <tr>\n",
              "      <th>0</th>\n",
              "      <td>1586995200000</td>\n",
              "      <td>2020-04-16 00:00:00</td>\n",
              "      <td>ETHUSD</td>\n",
              "      <td>152.94</td>\n",
              "      <td>152.94</td>\n",
              "      <td>150.39</td>\n",
              "      <td>150.39</td>\n",
              "      <td>650.188125</td>\n",
              "      <td>157.12</td>\n",
              "    </tr>\n",
              "    <tr>\n",
              "      <th>1</th>\n",
              "      <td>1586991600000</td>\n",
              "      <td>2020-04-15 23:00:00</td>\n",
              "      <td>ETHUSD</td>\n",
              "      <td>155.81</td>\n",
              "      <td>155.81</td>\n",
              "      <td>151.39</td>\n",
              "      <td>152.94</td>\n",
              "      <td>4277.567299</td>\n",
              "      <td>156.57</td>\n",
              "    </tr>\n",
              "    <tr>\n",
              "      <th>2</th>\n",
              "      <td>1586988000000</td>\n",
              "      <td>2020-04-15 22:00:00</td>\n",
              "      <td>ETHUSD</td>\n",
              "      <td>157.18</td>\n",
              "      <td>157.30</td>\n",
              "      <td>155.32</td>\n",
              "      <td>155.81</td>\n",
              "      <td>106.337279</td>\n",
              "      <td>156.46</td>\n",
              "    </tr>\n",
              "    <tr>\n",
              "      <th>3</th>\n",
              "      <td>1586984400000</td>\n",
              "      <td>2020-04-15 21:00:00</td>\n",
              "      <td>ETHUSD</td>\n",
              "      <td>158.04</td>\n",
              "      <td>158.31</td>\n",
              "      <td>157.16</td>\n",
              "      <td>157.18</td>\n",
              "      <td>55.244131</td>\n",
              "      <td>157.45</td>\n",
              "    </tr>\n",
              "    <tr>\n",
              "      <th>4</th>\n",
              "      <td>1586980800000</td>\n",
              "      <td>2020-04-15 20:00:00</td>\n",
              "      <td>ETHUSD</td>\n",
              "      <td>157.10</td>\n",
              "      <td>158.10</td>\n",
              "      <td>156.87</td>\n",
              "      <td>158.04</td>\n",
              "      <td>144.262622</td>\n",
              "      <td>157.69</td>\n",
              "    </tr>\n",
              "    <tr>\n",
              "      <th>5</th>\n",
              "      <td>1586977200000</td>\n",
              "      <td>2020-04-15 19:00:00</td>\n",
              "      <td>ETHUSD</td>\n",
              "      <td>157.78</td>\n",
              "      <td>157.84</td>\n",
              "      <td>157.10</td>\n",
              "      <td>157.10</td>\n",
              "      <td>329.356201</td>\n",
              "      <td>159.05</td>\n",
              "    </tr>\n",
              "    <tr>\n",
              "      <th>6</th>\n",
              "      <td>1586973600000</td>\n",
              "      <td>2020-04-15 18:00:00</td>\n",
              "      <td>ETHUSD</td>\n",
              "      <td>157.48</td>\n",
              "      <td>158.20</td>\n",
              "      <td>157.48</td>\n",
              "      <td>157.78</td>\n",
              "      <td>520.137463</td>\n",
              "      <td>158.77</td>\n",
              "    </tr>\n",
              "    <tr>\n",
              "      <th>7</th>\n",
              "      <td>1586970000000</td>\n",
              "      <td>2020-04-15 17:00:00</td>\n",
              "      <td>ETHUSD</td>\n",
              "      <td>157.12</td>\n",
              "      <td>157.78</td>\n",
              "      <td>156.90</td>\n",
              "      <td>157.48</td>\n",
              "      <td>156.552221</td>\n",
              "      <td>159.84</td>\n",
              "    </tr>\n",
              "    <tr>\n",
              "      <th>8</th>\n",
              "      <td>1586966400000</td>\n",
              "      <td>2020-04-15 16:00:00</td>\n",
              "      <td>ETHUSD</td>\n",
              "      <td>155.81</td>\n",
              "      <td>157.52</td>\n",
              "      <td>155.74</td>\n",
              "      <td>157.12</td>\n",
              "      <td>430.083035</td>\n",
              "      <td>160.21</td>\n",
              "    </tr>\n",
              "    <tr>\n",
              "      <th>9</th>\n",
              "      <td>1586962800000</td>\n",
              "      <td>2020-04-15 15:00:00</td>\n",
              "      <td>ETHUSD</td>\n",
              "      <td>157.12</td>\n",
              "      <td>157.15</td>\n",
              "      <td>155.81</td>\n",
              "      <td>155.81</td>\n",
              "      <td>303.839541</td>\n",
              "      <td>160.91</td>\n",
              "    </tr>\n",
              "  </tbody>\n",
              "</table>\n",
              "</div>"
            ],
            "text/plain": [
              "   Unix Timestamp                 Date  ...       Volume  Predicted Value\n",
              "0   1586995200000  2020-04-16 00:00:00  ...   650.188125           157.12\n",
              "1   1586991600000  2020-04-15 23:00:00  ...  4277.567299           156.57\n",
              "2   1586988000000  2020-04-15 22:00:00  ...   106.337279           156.46\n",
              "3   1586984400000  2020-04-15 21:00:00  ...    55.244131           157.45\n",
              "4   1586980800000  2020-04-15 20:00:00  ...   144.262622           157.69\n",
              "5   1586977200000  2020-04-15 19:00:00  ...   329.356201           159.05\n",
              "6   1586973600000  2020-04-15 18:00:00  ...   520.137463           158.77\n",
              "7   1586970000000  2020-04-15 17:00:00  ...   156.552221           159.84\n",
              "8   1586966400000  2020-04-15 16:00:00  ...   430.083035           160.21\n",
              "9   1586962800000  2020-04-15 15:00:00  ...   303.839541           160.91\n",
              "\n",
              "[10 rows x 9 columns]"
            ]
          },
          "metadata": {},
          "execution_count": 26
        }
      ]
    },
    {
      "cell_type": "code",
      "metadata": {
        "colab": {
          "base_uri": "https://localhost:8080/",
          "height": 390
        },
        "id": "IjWYun0nr7hd",
        "outputId": "d01fbd9b-6243-419f-b6d1-db6deb1a710b"
      },
      "source": [
        "df.tail(11)"
      ],
      "execution_count": null,
      "outputs": [
        {
          "output_type": "execute_result",
          "data": {
            "text/html": [
              "<div>\n",
              "<style scoped>\n",
              "    .dataframe tbody tr th:only-of-type {\n",
              "        vertical-align: middle;\n",
              "    }\n",
              "\n",
              "    .dataframe tbody tr th {\n",
              "        vertical-align: top;\n",
              "    }\n",
              "\n",
              "    .dataframe thead th {\n",
              "        text-align: right;\n",
              "    }\n",
              "</style>\n",
              "<table border=\"1\" class=\"dataframe\">\n",
              "  <thead>\n",
              "    <tr style=\"text-align: right;\">\n",
              "      <th></th>\n",
              "      <th>Unix Timestamp</th>\n",
              "      <th>Date</th>\n",
              "      <th>Symbol</th>\n",
              "      <th>Open</th>\n",
              "      <th>High</th>\n",
              "      <th>Low</th>\n",
              "      <th>Close</th>\n",
              "      <th>Volume</th>\n",
              "      <th>Predicted Value</th>\n",
              "    </tr>\n",
              "  </thead>\n",
              "  <tbody>\n",
              "    <tr>\n",
              "      <th>34486</th>\n",
              "      <td>1462834800</td>\n",
              "      <td>2016-05-09 23:00:00</td>\n",
              "      <td>ETHUSD</td>\n",
              "      <td>9.36</td>\n",
              "      <td>9.98</td>\n",
              "      <td>9.36</td>\n",
              "      <td>9.36</td>\n",
              "      <td>25.029058</td>\n",
              "      <td>9.55</td>\n",
              "    </tr>\n",
              "    <tr>\n",
              "      <th>34487</th>\n",
              "      <td>1462831200</td>\n",
              "      <td>2016-05-09 22:00:00</td>\n",
              "      <td>ETHUSD</td>\n",
              "      <td>9.94</td>\n",
              "      <td>9.94</td>\n",
              "      <td>9.36</td>\n",
              "      <td>9.36</td>\n",
              "      <td>25.000000</td>\n",
              "      <td>NaN</td>\n",
              "    </tr>\n",
              "    <tr>\n",
              "      <th>34488</th>\n",
              "      <td>1462827600</td>\n",
              "      <td>2016-05-09 21:00:00</td>\n",
              "      <td>ETHUSD</td>\n",
              "      <td>9.97</td>\n",
              "      <td>9.97</td>\n",
              "      <td>9.94</td>\n",
              "      <td>9.94</td>\n",
              "      <td>109.177062</td>\n",
              "      <td>NaN</td>\n",
              "    </tr>\n",
              "    <tr>\n",
              "      <th>34489</th>\n",
              "      <td>1462824000</td>\n",
              "      <td>2016-05-09 20:00:00</td>\n",
              "      <td>ETHUSD</td>\n",
              "      <td>9.99</td>\n",
              "      <td>9.99</td>\n",
              "      <td>9.97</td>\n",
              "      <td>9.97</td>\n",
              "      <td>10.000000</td>\n",
              "      <td>NaN</td>\n",
              "    </tr>\n",
              "    <tr>\n",
              "      <th>34490</th>\n",
              "      <td>1462820400</td>\n",
              "      <td>2016-05-09 19:00:00</td>\n",
              "      <td>ETHUSD</td>\n",
              "      <td>9.36</td>\n",
              "      <td>9.99</td>\n",
              "      <td>9.36</td>\n",
              "      <td>9.99</td>\n",
              "      <td>49.500000</td>\n",
              "      <td>NaN</td>\n",
              "    </tr>\n",
              "    <tr>\n",
              "      <th>34491</th>\n",
              "      <td>1462816800</td>\n",
              "      <td>2016-05-09 18:00:00</td>\n",
              "      <td>ETHUSD</td>\n",
              "      <td>9.49</td>\n",
              "      <td>9.49</td>\n",
              "      <td>9.36</td>\n",
              "      <td>9.36</td>\n",
              "      <td>52.954200</td>\n",
              "      <td>NaN</td>\n",
              "    </tr>\n",
              "    <tr>\n",
              "      <th>34492</th>\n",
              "      <td>1462813200</td>\n",
              "      <td>2016-05-09 17:00:00</td>\n",
              "      <td>ETHUSD</td>\n",
              "      <td>9.83</td>\n",
              "      <td>9.83</td>\n",
              "      <td>9.48</td>\n",
              "      <td>9.49</td>\n",
              "      <td>329.553213</td>\n",
              "      <td>NaN</td>\n",
              "    </tr>\n",
              "    <tr>\n",
              "      <th>34493</th>\n",
              "      <td>1462809600</td>\n",
              "      <td>2016-05-09 16:00:00</td>\n",
              "      <td>ETHUSD</td>\n",
              "      <td>9.99</td>\n",
              "      <td>9.99</td>\n",
              "      <td>9.79</td>\n",
              "      <td>9.83</td>\n",
              "      <td>62.379450</td>\n",
              "      <td>NaN</td>\n",
              "    </tr>\n",
              "    <tr>\n",
              "      <th>34494</th>\n",
              "      <td>1462806000</td>\n",
              "      <td>2016-05-09 15:00:00</td>\n",
              "      <td>ETHUSD</td>\n",
              "      <td>10.00</td>\n",
              "      <td>10.00</td>\n",
              "      <td>9.99</td>\n",
              "      <td>9.99</td>\n",
              "      <td>10.973567</td>\n",
              "      <td>NaN</td>\n",
              "    </tr>\n",
              "    <tr>\n",
              "      <th>34495</th>\n",
              "      <td>1462802400</td>\n",
              "      <td>2016-05-09 14:00:00</td>\n",
              "      <td>ETHUSD</td>\n",
              "      <td>9.55</td>\n",
              "      <td>10.00</td>\n",
              "      <td>9.55</td>\n",
              "      <td>10.00</td>\n",
              "      <td>235.774075</td>\n",
              "      <td>NaN</td>\n",
              "    </tr>\n",
              "    <tr>\n",
              "      <th>34496</th>\n",
              "      <td>1462798800</td>\n",
              "      <td>2016-05-09 13:00:00</td>\n",
              "      <td>ETHUSD</td>\n",
              "      <td>0.00</td>\n",
              "      <td>12.00</td>\n",
              "      <td>0.00</td>\n",
              "      <td>9.55</td>\n",
              "      <td>432.562115</td>\n",
              "      <td>NaN</td>\n",
              "    </tr>\n",
              "  </tbody>\n",
              "</table>\n",
              "</div>"
            ],
            "text/plain": [
              "       Unix Timestamp                 Date  ...      Volume  Predicted Value\n",
              "34486      1462834800  2016-05-09 23:00:00  ...   25.029058             9.55\n",
              "34487      1462831200  2016-05-09 22:00:00  ...   25.000000              NaN\n",
              "34488      1462827600  2016-05-09 21:00:00  ...  109.177062              NaN\n",
              "34489      1462824000  2016-05-09 20:00:00  ...   10.000000              NaN\n",
              "34490      1462820400  2016-05-09 19:00:00  ...   49.500000              NaN\n",
              "34491      1462816800  2016-05-09 18:00:00  ...   52.954200              NaN\n",
              "34492      1462813200  2016-05-09 17:00:00  ...  329.553213              NaN\n",
              "34493      1462809600  2016-05-09 16:00:00  ...   62.379450              NaN\n",
              "34494      1462806000  2016-05-09 15:00:00  ...   10.973567              NaN\n",
              "34495      1462802400  2016-05-09 14:00:00  ...  235.774075              NaN\n",
              "34496      1462798800  2016-05-09 13:00:00  ...  432.562115              NaN\n",
              "\n",
              "[11 rows x 9 columns]"
            ]
          },
          "metadata": {},
          "execution_count": 27
        }
      ]
    },
    {
      "cell_type": "code",
      "metadata": {
        "colab": {
          "base_uri": "https://localhost:8080/",
          "height": 357
        },
        "id": "2nOJlPovr-hm",
        "outputId": "2caad76e-634f-4b86-85e5-ab1ba5b73679"
      },
      "source": [
        "sns.heatmap(df.corr(), annot = True,cmap= 'coolwarm')"
      ],
      "execution_count": null,
      "outputs": [
        {
          "output_type": "execute_result",
          "data": {
            "text/plain": [
              "<matplotlib.axes._subplots.AxesSubplot at 0x7f3b759e9310>"
            ]
          },
          "metadata": {},
          "execution_count": 28
        },
        {
          "output_type": "display_data",
          "data": {
            "image/png": "[encoded data removed]",
            "text/plain": [
              "<Figure size 432x288 with 2 Axes>"
            ]
          },
          "metadata": {
            "needs_background": "light"
          }
        }
      ]
    },
    {
      "cell_type": "code",
      "metadata": {
        "colab": {
          "base_uri": "https://localhost:8080/"
        },
        "id": "Wa7YYwhPsCel",
        "outputId": "fba80d1d-4a08-440a-b159-d9c5c3404c5f"
      },
      "source": [
        "#create independent dataset (x)\n",
        "x = np.array(df[['Close']]) \n",
        "size = len(x);\n",
        "print(size)\n",
        "x = x[:size-predict_for_days]\n",
        "y = np.array(df[['Predicted Value']]) \n",
        "#y= df['Predicted Value'].values\n",
        "y= y[:size-predict_for_days]\n",
        "print(x)\n",
        "print(y)"
      ],
      "execution_count": null,
      "outputs": [
        {
          "output_type": "stream",
          "name": "stdout",
          "text": [
            "34497\n",
            "[[150.39]\n",
            " [152.94]\n",
            " [155.81]\n",
            " ...\n",
            " [  9.36]\n",
            " [  9.36]\n",
            " [  9.36]]\n",
            "[[157.12]\n",
            " [156.57]\n",
            " [156.46]\n",
            " ...\n",
            " [  9.99]\n",
            " [ 10.  ]\n",
            " [  9.55]]\n"
          ]
        }
      ]
    },
    {
      "cell_type": "code",
      "metadata": {
        "id": "j7uGVjxOsHId"
      },
      "source": [
        "x_train_set = x[:27000]\n",
        "x_test_set = x[27000:]\n",
        "y_train_set = y[:27000]\n",
        "y_test_set = y[27000:]"
      ],
      "execution_count": null,
      "outputs": []
    },
    {
      "cell_type": "code",
      "metadata": {
        "colab": {
          "base_uri": "https://localhost:8080/",
          "height": 295
        },
        "id": "ChURrCSgsK_d",
        "outputId": "eae0679f-c2e3-48e4-9b0b-8e0c6058c750"
      },
      "source": [
        "plt.scatter(x_test_set, y_test_set, color = \"blue\")\n",
        "plt.title(\"Etherium price vs Predicted Price after 10 days (Training set)\")\n",
        "plt.xlabel(\"Etherium Price\")\n",
        "plt.ylabel(\"Prediction Price\")\n",
        "plt.show()"
      ],
      "execution_count": null,
      "outputs": [
        {
          "output_type": "display_data",
          "data": {
            "image/png": "[encoded data removed]",
            "text/plain": [
              "<Figure size 432x288 with 1 Axes>"
            ]
          },
          "metadata": {
            "needs_background": "light"
          }
        }
      ]
    },
    {
      "cell_type": "code",
      "metadata": {
        "colab": {
          "base_uri": "https://localhost:8080/"
        },
        "id": "Po2hXjjqsOcJ",
        "outputId": "b3105588-141a-4a89-e8a1-bc6741775807"
      },
      "source": [
        " \n",
        "# Building the model\n",
        "m = 0\n",
        "c = 0\n",
        " \n",
        "L = 0.0001  # The learning Rate\n",
        "epochs = 1000  # The number of iterations to perform gradient descent\n",
        " \n",
        "n = len(x_train_set) # Number of elements in X\n",
        "print(n)\n",
        "# Performing Gradient Descent \n",
        "for k in range(epochs):\n",
        "  for i in range(n): \n",
        "      Y_pred = m*x_train_set[i] + c  # The current predicted value of Y\n",
        "      D_m = (-2/n) * sum(x_train_set[i] * (y_train_set[i] - Y_pred))  # Derivative wrt m\n",
        "      D_c = (-2/n) * sum(y_train_set[i] - Y_pred)  # Derivative wrt c\n",
        "      m = m - L * D_m  # Update m\n",
        "      c = c - L * D_c  # Update c\n",
        "    \n",
        "print (m, c)"
      ],
      "execution_count": null,
      "outputs": [
        {
          "output_type": "stream",
          "name": "stdout",
          "text": [
            "27000\n",
            "0.9951170600596849 0.005261243018655917\n"
          ]
        }
      ]
    },
    {
      "cell_type": "code",
      "metadata": {
        "colab": {
          "base_uri": "https://localhost:8080/",
          "height": 265
        },
        "id": "tJ9jpXG0vyjy",
        "outputId": "4e08f1a4-771f-4954-c21a-784feae208bd"
      },
      "source": [
        "# Making predictions\n",
        "Y_pred = m* x_test_set + c\n",
        "\n",
        "plt.scatter( x_test_set,  y_test_set) \n",
        "plt.plot([min( x_test_set), max( x_test_set)], [min(Y_pred), max(Y_pred)], color='red')  # regression line\n",
        "plt.show()"
      ],
      "execution_count": null,
      "outputs": [
        {
          "output_type": "display_data",
          "data": {
            "image/png": "[encoded data removed]",
            "text/plain": [
              "<Figure size 432x288 with 1 Axes>"
            ]
          },
          "metadata": {
            "needs_background": "light"
          }
        }
      ]
    },
    {
      "cell_type": "code",
      "metadata": {
        "colab": {
          "base_uri": "https://localhost:8080/"
        },
        "id": "670MNNimw86z",
        "outputId": "b8e99e60-7e63-4cf5-f582-4d9882bc6e51"
      },
      "source": [
        "sst=0;\n",
        "ssr=0;\n",
        "y_mean = np.mean(y_test_set)\n",
        "n = len(x_test_set)\n",
        "for i in range(n):\n",
        "  sst += (y_test_set[i]-y_mean)**2;\n",
        "  ssr += (y_test_set[i]-Y_pred[i])**2\n",
        "rms = 1-ssr/sst\n",
        "print(rms)"
      ],
      "execution_count": null,
      "outputs": [
        {
          "output_type": "stream",
          "name": "stdout",
          "text": [
            "[0.96894102]\n"
          ]
        }
      ]
    }
  ]
}